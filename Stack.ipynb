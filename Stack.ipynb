{
  "nbformat": 4,
  "nbformat_minor": 0,
  "metadata": {
    "colab": {
      "name": "Stack.ipynb",
      "provenance": [],
      "authorship_tag": "ABX9TyOeXbwDr/O3+vxDWHVIPmhK",
      "include_colab_link": true
    },
    "kernelspec": {
      "name": "python3",
      "display_name": "Python 3"
    },
    "language_info": {
      "name": "python"
    }
  },
  "cells": [
    {
      "cell_type": "markdown",
      "metadata": {
        "id": "view-in-github",
        "colab_type": "text"
      },
      "source": [
        "<a href=\"https://colab.research.google.com/github/maulya230/Python/blob/main/Stack.ipynb\" target=\"_parent\"><img src=\"https://colab.research.google.com/assets/colab-badge.svg\" alt=\"Open In Colab\"/></a>"
      ]
    },
    {
      "cell_type": "code",
      "execution_count": 16,
      "metadata": {
        "colab": {
          "base_uri": "https://localhost:8080/"
        },
        "id": "6MkthfCwB8xQ",
        "outputId": "702bfb22-ab9c-412f-a7bb-4c02a9e38a3a"
      },
      "outputs": [
        {
          "name": "stdout",
          "output_type": "stream",
          "text": [
            "-----Hostel Menu-------\n",
            "1. Add\n",
            "2. Delete\n",
            "3. Display\n",
            "4. Exit\n",
            "Enter your choice: 1\n",
            "Enter the values:1\n",
            "Enter your choice: 3\n",
            "[1]\n",
            "Enter your choice: 1\n",
            "Enter the values:4\n",
            "Enter your choice: 2\n",
            "Enter your choice: 3\n",
            "[1]\n",
            "Enter your choice: 4\n"
          ]
        }
      ],
      "source": [
        "#Write menu based program to add,delete and display the record  \n",
        "# of hostel using  list a Stack data Structure in Python. Field Names:Hostel Number,Total Students,and Total Rooms\n",
        "\n",
        "stack=[]\n",
        "print(\"-----Hostel Menu-------\")\n",
        "print(\"1. Add\")\n",
        "print(\"2. Delete\")\n",
        "print(\"3. Display\")\n",
        "print(\"4. Exit\")\n",
        "while True:\n",
        "  ans=int(input(\"Enter your choice: \"))\n",
        "  if ans==1:\n",
        "      n=int(input(\"Enter the values:\"))\n",
        "      stack.append(n)\n",
        "  elif ans==2:\n",
        "      stack.pop()\n",
        "  elif ans==3:\n",
        "      print(stack)\n",
        "  elif ans==4:\n",
        "    break\n",
        "  else:\n",
        "      print(\"Invalid Choice\")\n",
        "\n"
      ]
    },
    {
      "cell_type": "code",
      "source": [
        "# insert weekdays nd months...popout only weekdays\n",
        "\n",
        "stack=[]\n",
        "a=1\n",
        "while (a==1):\n",
        "  value=input(\"Enter a Days of Week or Months:\")\n",
        "  stack.append(value)\n",
        "  if (value==\"monday\" or value==\"tuesday\" or value==\"wednesday\" or value==\"thursday\" or value==\"friday\" or value==\"saturday\" or value==\"sunday\"):\n",
        "    print(\"Weekday so we will pop it\")\n",
        "    print(stack.pop())\n",
        "    print(stack)\n",
        "  a=int(input(\"Do you want to continue: 1 to continue:\"))\n",
        "\n",
        " \n",
        "\n",
        "\n",
        "\n"
      ],
      "metadata": {
        "colab": {
          "base_uri": "https://localhost:8080/"
        },
        "id": "VddwSH4CKoNr",
        "outputId": "1d2aeef2-0340-4717-e543-dc1672b54f1f"
      },
      "execution_count": 24,
      "outputs": [
        {
          "name": "stdout",
          "output_type": "stream",
          "text": [
            "Enter a Days of Week or Months:january\n",
            "Do you want to continue: 1 to continue:1\n",
            "Enter a Days of Week or Months:wednesday\n",
            "Weekday so we will pop it\n",
            "wednesday\n",
            "['january']\n",
            "Do you want to continue: 1 to continue:0\n"
          ]
        }
      ]
    },
    {
      "cell_type": "code",
      "source": [
        "value=input(\"Enter any word: \")\n",
        "stack=[]\n",
        "for i in value:\n",
        "  stack.append(i)\n",
        "stack.reverse()\n",
        "for i in stack:\n",
        "  print(i,end=\"\")"
      ],
      "metadata": {
        "colab": {
          "base_uri": "https://localhost:8080/"
        },
        "id": "Fkdy47_eV3hG",
        "outputId": "402c344b-4ab4-4d55-ceee-3c50e5777160"
      },
      "execution_count": 26,
      "outputs": [
        {
          "output_type": "stream",
          "name": "stdout",
          "text": [
            "Enter any word: Apple\n",
            "elppA"
          ]
        }
      ]
    }
  ]
}